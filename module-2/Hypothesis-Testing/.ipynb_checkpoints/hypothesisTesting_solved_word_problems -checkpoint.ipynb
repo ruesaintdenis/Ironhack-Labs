{
 "cells": [
  {
   "cell_type": "markdown",
   "metadata": {},
   "source": [
    "Boys of a certain age are known to have a mean weight of μ = 85 \n",
    "pounds. A complaint is made that the boys living in a municipal \n",
    "children's home are underfed. As one bit of evidence, n = 25 boys\n",
    "(of the same age) are weighed and found to have a mean weight of \n",
    "80.94 pounds. It is known that the population standard deviation \n",
    "σ is 11.6 pounds (the unrealistic part of this example!).  \n",
    "Based on the available data, what should be concluded concerning \n",
    "the complaint?\n",
    "Verify the results using Python"
   ]
  },
  {
   "cell_type": "markdown",
   "metadata": {},
   "source": [
    "Population standard deviation is known : Z test"
   ]
  },
  {
   "cell_type": "code",
   "execution_count": 13,
   "metadata": {},
   "outputs": [],
   "source": [
    "from scipy.stats import ttest_1samp\n",
    "from scipy.stats import norm\n",
    "import math\n",
    "from scipy.stats import t"
   ]
  },
  {
   "cell_type": "code",
   "execution_count": 29,
   "metadata": {},
   "outputs": [
    {
     "name": "stdout",
     "output_type": "stream",
     "text": [
      "Statistic is:  -1.750000000000001\n",
      "P value is:  0.04005915686381699\n",
      "Critical Value of z is:  -1.6448536269514729\n",
      "Upper confidence interval limit is:  84.75606041452741\n",
      "Lower confidence interval limit is:  77.12393958547258\n"
     ]
    }
   ],
   "source": [
    "sample_mean = 80.94\n",
    "pop_mean = 85\n",
    "pop_std = 11.6\n",
    "n = 25\n",
    "\n",
    "# For a one sided test on the left mean < 85 (one tail test)\n",
    "\n",
    "statistic = (sample_mean - pop_mean)/(pop_std/math.sqrt(n))\n",
    "print(\"Statistic is: \", statistic)\n",
    "print(\"P value is: \",norm.cdf(statistic))\n",
    "print(\"Critical Value of z is: \", norm.ppf(0.05))\n",
    "absoluteZ = abs(norm.ppf(0.05))\n",
    "upperCI = sample_mean + absoluteZ*pop_std/math.sqrt(n)\n",
    "print(\"Upper confidence interval limit is: \", upperCI)\n",
    "lowerCI = sample_mean - absoluteZ*pop_std/math.sqrt(n)\n",
    "print(\"Lower confidence interval limit is: \", lowerCI)\n"
   ]
  },
  {
   "cell_type": "code",
   "execution_count": 28,
   "metadata": {},
   "outputs": [
    {
     "data": {
      "text/plain": [
       "1"
      ]
     },
     "execution_count": 28,
     "metadata": {},
     "output_type": "execute_result"
    }
   ],
   "source": []
  },
  {
   "cell_type": "code",
   "execution_count": 23,
   "metadata": {},
   "outputs": [
    {
     "name": "stdout",
     "output_type": "stream",
     "text": [
      "Statistic is:  1.6982758620689646\n",
      "P value is:  0.044727854130928835\n",
      "Critical Value of z is:  1.6448536269514722\n"
     ]
    }
   ],
   "source": [
    "# For a one sided test on the right mean > 85 (one tail test)\n",
    "# Lets assume a slightly different data\n",
    "sample_mean = 88.94\n",
    "pop_mean = 85\n",
    "pop_std = 11.6\n",
    "n = 25\n",
    "statistic = (sample_mean - pop_mean)/(pop_std/math.sqrt(n))\n",
    "print(\"Statistic is: \", statistic)\n",
    "print(\"P value is: \",1 - norm.cdf(statistic))\n",
    "print(\"Critical Value of z is: \", norm.ppf(1 - 0.05))"
   ]
  },
  {
   "cell_type": "code",
   "execution_count": null,
   "metadata": {},
   "outputs": [],
   "source": []
  },
  {
   "cell_type": "code",
   "execution_count": null,
   "metadata": {},
   "outputs": [],
   "source": []
  },
  {
   "cell_type": "markdown",
   "metadata": {},
   "source": [
    "It is assumed that the mean systolic blood pressure is μ = 120 mm Hg. In the Honolulu Heart Study, a sample of n = 100 people had an average systolic blood pressure of 130.1 mm Hg with a standard deviation of 21.21 mm Hg. Is the group significantly different (with respect to systolic blood pressure!) from the regular population?\n"
   ]
  },
  {
   "cell_type": "markdown",
   "metadata": {},
   "source": [
    "Population standard deviation is unknown : T test (2 sided)"
   ]
  },
  {
   "cell_type": "code",
   "execution_count": 57,
   "metadata": {},
   "outputs": [
    {
     "name": "stdout",
     "output_type": "stream",
     "text": [
      "Statistic is:  4.761904761904759\n",
      "P value is:  3.281350908546088e-06\n",
      "Critical Value of z is:  1.9842169515086827\n"
     ]
    }
   ],
   "source": [
    "pop_mean = 120\n",
    "sample_mean = 130.1\n",
    "sample_std = 21.21\n",
    "n = 100\n",
    "statistic = (sample_mean - pop_mean)/(sample_std/math.sqrt(n))\n",
    "print(\"Statistic is: \", statistic)\n",
    "print(\"P value is: \",1- t.cdf(statistic, n-1))\n",
    "print(\"Critical Value of z is: \", t.ppf(1 - 0.025, n-1))"
   ]
  },
  {
   "cell_type": "code",
   "execution_count": 48,
   "metadata": {},
   "outputs": [
    {
     "name": "stdout",
     "output_type": "stream",
     "text": [
      "Upper confidence interval limit is:  140.2\n",
      "Lower confidence interval limit is:  120.0\n"
     ]
    }
   ],
   "source": [
    "upperCI = sample_mean + statistic*sample_std/math.sqrt(n)\n",
    "print(\"Upper confidence interval limit is: \", upperCI)\n",
    "lowerCI = sample_mean - statistic*sample_std/math.sqrt(n)\n",
    "print(\"Lower confidence interval limit is: \", lowerCI)"
   ]
  },
  {
   "cell_type": "code",
   "execution_count": 41,
   "metadata": {},
   "outputs": [
    {
     "data": {
      "text/plain": [
       "Ttest_1sampResult(statistic=4.143795112107632, pvalue=7.206951044816677e-05)"
      ]
     },
     "execution_count": 41,
     "metadata": {},
     "output_type": "execute_result"
    }
   ],
   "source": [
    "rvs = norm.rvs(130.1, 21.21, 100)\n",
    "ttest_1samp(rvs, 120)"
   ]
  },
  {
   "cell_type": "code",
   "execution_count": null,
   "metadata": {},
   "outputs": [],
   "source": []
  },
  {
   "cell_type": "code",
   "execution_count": null,
   "metadata": {},
   "outputs": [],
   "source": []
  },
  {
   "cell_type": "raw",
   "metadata": {},
   "source": [
    "Blood samples from n = 10 people were sent to each of two laboratories (Lab 1 and Lab 2) for cholesterol determinations. The resulting data are summarized here:\n",
    "Sample 1 mean: 260.6\n",
    "Sample 2 mean: 275\n",
    "Mean of differences: -14.4\n",
    "Standard deviation of mean:  6.77\n",
    "\n",
    "Is there a statistically significant difference at the α = 0.01 level, say, in the (population) mean cholesterol levels reported by Lab 1 and Lab 2?\n"
   ]
  },
  {
   "cell_type": "raw",
   "metadata": {},
   "source": [
    "This is a paired t test (Assuming two sided)"
   ]
  },
  {
   "cell_type": "code",
   "execution_count": 61,
   "metadata": {},
   "outputs": [
    {
     "name": "stdout",
     "output_type": "stream",
     "text": [
      "Statistic is:  -6.726262674508814\n",
      "P value is:  4.2965852448166444e-05\n",
      "Critical Value of z is:  -3.24983554401537\n"
     ]
    }
   ],
   "source": [
    "difference_mean = -14.4\n",
    "difference_std = 6.77\n",
    "n = 10\n",
    "statistic = (difference_mean - 0)/(difference_std/math.sqrt(n))\n",
    "print(\"Statistic is: \", statistic)\n",
    "print(\"P value is: \", t.cdf(statistic,n-1))\n",
    "print(\"Critical Value of z is: \", t.ppf(0.005, n-1)) #alpha is 0.01"
   ]
  },
  {
   "cell_type": "code",
   "execution_count": 73,
   "metadata": {},
   "outputs": [
    {
     "name": "stdout",
     "output_type": "stream",
     "text": [
      "Upper confidence interval limit is:  -21.357449344221266\n",
      "Lower confidence interval limit is:  -7.442550655778733\n"
     ]
    }
   ],
   "source": [
    "t_critical = t.ppf(0.005, n-1)  \n",
    "upperCI =  difference_mean + t_critical*difference_std/math.sqrt(n)\n",
    "print(\"Upper confidence interval limit is: \", upperCI)\n",
    "lowerCI = difference_mean - t_critical*difference_std/math.sqrt(n)\n",
    "print(\"Lower confidence interval limit is: \", lowerCI)"
   ]
  },
  {
   "cell_type": "code",
   "execution_count": null,
   "metadata": {},
   "outputs": [],
   "source": []
  },
  {
   "cell_type": "code",
   "execution_count": null,
   "metadata": {},
   "outputs": [],
   "source": []
  },
  {
   "cell_type": "raw",
   "metadata": {},
   "source": [
    "A psychologist was interested in exploring whether or not male and female college students have different driving behaviors. There were a number of ways that she could quantify driving behaviors. She opted to focus on the fastest speed ever driven by an individual. Therefore, the particular statistical question she framed was as follows:\n",
    "Is the mean fastest speed driven by male college students different than the mean fastest speed driven by female college students?\n",
    "She conducted a survey of a random n = 34 male college students and a random m = 29 female college students. Here is a descriptive summary of the results of her survey:\n",
    "\n",
    " Males: \n",
    "samples = 34\n",
    "Sample mean = 105.5 \n",
    "Sample standard deviation: 20.1\n",
    "\n",
    " Females: \n",
    "samples = 29\n",
    "Sample mean = 90.0\n",
    "Sample standard deviation:12.2\n",
    "\n",
    "Please note that in this case we are assuming that the population variances are equal\n"
   ]
  },
  {
   "cell_type": "raw",
   "metadata": {},
   "source": [
    "2 sided T test"
   ]
  },
  {
   "cell_type": "code",
   "execution_count": 81,
   "metadata": {},
   "outputs": [],
   "source": [
    "sample_mean1 = 105.5\n",
    "sample_std1 = 20.1\n",
    "n1 = 34\n",
    "sample_mean2 = 90.9\n",
    "sample_std2 = 12.2\n",
    "n2 = 29\n",
    "sample1 = norm.rvs(sample_mean1, sample_std1, n1)\n",
    "sample2 = norm.rvs(sample_mean2, sample_std2, n2)"
   ]
  },
  {
   "cell_type": "code",
   "execution_count": 92,
   "metadata": {},
   "outputs": [
    {
     "name": "stdout",
     "output_type": "stream",
     "text": [
      "T Statistic is:  3.4101131776909535\n",
      "P value is:  0.0005783712704484634\n",
      "Critical Value of z is:  -1.9996235841149783\n"
     ]
    }
   ],
   "source": [
    "pooled_sample_std = math.sqrt(((n1-1)*sample_std1**2 + (n2-1)*sample_std2**2)/(n1+n2-2))\n",
    "statistic = (sample_mean1-sample_mean2)/(pooled_sample_std*math.sqrt((1/n1)+(1/n2)))\n",
    "print(\"T Statistic is: \", statistic)\n",
    "print(\"P value is: \", 1- t.cdf(statistic,n1+n2-2))\n",
    "print(\"Critical Value of z is: \", t.ppf(0.025, n1+n2-2)) #alpha is 0.05"
   ]
  },
  {
   "cell_type": "code",
   "execution_count": 95,
   "metadata": {},
   "outputs": [
    {
     "data": {
      "text/plain": [
       "Ttest_indResult(statistic=4.795366371491364, pvalue=1.0834993801233288e-05)"
      ]
     },
     "execution_count": 95,
     "metadata": {},
     "output_type": "execute_result"
    }
   ],
   "source": [
    "from scipy.stats import ttest_ind\n",
    "ttest_ind(sample1, sample2)"
   ]
  },
  {
   "cell_type": "markdown",
   "metadata": {},
   "source": [
    "Conduct the previous hypothesis test with the assumption that the variances of the two populations are not equal \n"
   ]
  },
  {
   "cell_type": "code",
   "execution_count": null,
   "metadata": {},
   "outputs": [],
   "source": []
  }
 ],
 "metadata": {
  "kernelspec": {
   "display_name": "Python 3",
   "language": "python",
   "name": "python3"
  },
  "language_info": {
   "codemirror_mode": {
    "name": "ipython",
    "version": 3
   },
   "file_extension": ".py",
   "mimetype": "text/x-python",
   "name": "python",
   "nbconvert_exporter": "python",
   "pygments_lexer": "ipython3",
   "version": "3.7.4"
  }
 },
 "nbformat": 4,
 "nbformat_minor": 2
}
