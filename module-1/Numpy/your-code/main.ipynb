{
 "cells": [
  {
   "cell_type": "markdown",
   "metadata": {},
   "source": [
    "# Intrduction to NumPy\n",
    "\n",
    "\n",
    "#### 1. Import NumPy under the name np."
   ]
  },
  {
   "cell_type": "code",
   "execution_count": 5,
   "metadata": {},
   "outputs": [],
   "source": [
    "# your code here\n",
    "import numpy as np"
   ]
  },
  {
   "cell_type": "markdown",
   "metadata": {},
   "source": [
    "#### 2. Print your NumPy version."
   ]
  },
  {
   "cell_type": "code",
   "execution_count": 2,
   "metadata": {},
   "outputs": [
    {
     "name": "stdout",
     "output_type": "stream",
     "text": [
      "1.16.5\n"
     ]
    }
   ],
   "source": [
    "# your code here\n",
    "print(np.__version__)"
   ]
  },
  {
   "cell_type": "markdown",
   "metadata": {},
   "source": [
    "#### 3. Generate a 2x3x5 3-dimensional array with random values. Assign the array to variable *a*.\n",
    "**Challenge**: there are at least three easy ways that use numpy to generate random arrays. How many ways can you find?"
   ]
  },
  {
   "cell_type": "code",
   "execution_count": 3,
   "metadata": {},
   "outputs": [
    {
     "name": "stdout",
     "output_type": "stream",
     "text": [
      "[[[0.57704571 0.26007116 0.3675412  0.5217313  0.71870494]\n",
      "  [0.1847141  0.20281165 0.40119255 0.63949922 0.23847502]\n",
      "  [0.1991583  0.32396296 0.00876982 0.65658832 0.3993103 ]]\n",
      "\n",
      " [[0.85151424 0.66291788 0.98021279 0.93330771 0.46548922]\n",
      "  [0.05911844 0.66944317 0.11412149 0.22804996 0.02599203]\n",
      "  [0.00871191 0.97947672 0.05192693 0.09779126 0.55983658]]]\n"
     ]
    }
   ],
   "source": [
    "# Method 1\n",
    "a = np.random.random((2,3,5))\n",
    "print(a)"
   ]
  },
  {
   "cell_type": "code",
   "execution_count": 8,
   "metadata": {},
   "outputs": [
    {
     "name": "stdout",
     "output_type": "stream",
     "text": [
      "[[[6.26965507e-01 1.22309221e-01 6.93607463e-01 8.19283698e-01\n",
      "   5.15655588e-01]\n",
      "  [6.13629451e-01 8.09308576e-01 5.80108726e-01 6.55751444e-01\n",
      "   1.11489825e-01]\n",
      "  [6.64867273e-01 4.29052804e-01 6.06415636e-04 2.76403437e-01\n",
      "   1.11698062e-01]]\n",
      "\n",
      " [[7.48051154e-01 8.19087504e-02 8.62540212e-01 2.81918327e-01\n",
      "   9.39365543e-01]\n",
      "  [8.80370023e-01 8.14530478e-01 5.05444884e-01 8.61748180e-01\n",
      "   1.37040567e-02]\n",
      "  [6.91893348e-01 8.30648825e-01 6.87737317e-01 6.05651312e-01\n",
      "   4.68175067e-01]]]\n"
     ]
    }
   ],
   "source": [
    "# Method 2\n",
    "a = np.random.rand(2,3,5)\n",
    "print(a)"
   ]
  },
  {
   "cell_type": "code",
   "execution_count": 16,
   "metadata": {},
   "outputs": [],
   "source": [
    "# Method 3\n",
    "a = np.random.randn(2,3,5)\n"
   ]
  },
  {
   "cell_type": "markdown",
   "metadata": {},
   "source": [
    "#### 4. Print *a*.\n"
   ]
  },
  {
   "cell_type": "code",
   "execution_count": 17,
   "metadata": {},
   "outputs": [
    {
     "name": "stdout",
     "output_type": "stream",
     "text": [
      "[[[ 0.15029962  0.16709118 -1.81006912 -1.07990635  0.26090639]\n",
      "  [-0.39069937 -0.22648089 -0.05553226  0.07993998  0.26112052]\n",
      "  [-1.09173696  0.10820165 -1.44217709 -0.59204743  0.05324294]]\n",
      "\n",
      " [[ 0.59013886  0.53156329  0.83228162  1.71264247 -1.3698096 ]\n",
      "  [-0.72437669  0.37578938  0.59568654 -0.43701517  2.5370072 ]\n",
      "  [ 0.56318257  0.7255606  -0.71467409 -0.15693535 -0.92157976]]]\n"
     ]
    }
   ],
   "source": [
    "# your code here\n",
    "print(a)"
   ]
  },
  {
   "cell_type": "markdown",
   "metadata": {},
   "source": [
    "#### 5. Create a 5x2x3 3-dimensional array with all values equaling 1. Assign the array to variable *b*."
   ]
  },
  {
   "cell_type": "code",
   "execution_count": 15,
   "metadata": {},
   "outputs": [],
   "source": [
    "# your code here\n",
    "b = np.ones((5,2,3))\n"
   ]
  },
  {
   "cell_type": "markdown",
   "metadata": {},
   "source": [
    "#### 6. Print *b*.\n"
   ]
  },
  {
   "cell_type": "code",
   "execution_count": 14,
   "metadata": {},
   "outputs": [
    {
     "name": "stdout",
     "output_type": "stream",
     "text": [
      "[[[1. 1. 1.]\n",
      "  [1. 1. 1.]]\n",
      "\n",
      " [[1. 1. 1.]\n",
      "  [1. 1. 1.]]\n",
      "\n",
      " [[1. 1. 1.]\n",
      "  [1. 1. 1.]]\n",
      "\n",
      " [[1. 1. 1.]\n",
      "  [1. 1. 1.]]\n",
      "\n",
      " [[1. 1. 1.]\n",
      "  [1. 1. 1.]]]\n"
     ]
    }
   ],
   "source": [
    "# your code here\n",
    "print(b)"
   ]
  },
  {
   "cell_type": "markdown",
   "metadata": {},
   "source": [
    "#### 7. Do *a* and *b* have the same size? How do you prove that in Python code?"
   ]
  },
  {
   "cell_type": "code",
   "execution_count": 19,
   "metadata": {},
   "outputs": [
    {
     "name": "stdout",
     "output_type": "stream",
     "text": [
      "(2, 3, 5)\n",
      "30\n",
      "(5, 2, 3)\n",
      "30\n",
      "True\n"
     ]
    }
   ],
   "source": [
    "# your code here\n",
    "print(a.shape)\n",
    "print(a.size)\n",
    "\n",
    "print(b.shape)\n",
    "print(b.size)\n",
    "\n",
    "#It seems like they are the same size \n",
    "print(a.size == b.size)\n"
   ]
  },
  {
   "cell_type": "markdown",
   "metadata": {},
   "source": [
    "#### 8. Are you able to add *a* and *b*? Why or why not?\n"
   ]
  },
  {
   "cell_type": "code",
   "execution_count": 20,
   "metadata": {},
   "outputs": [
    {
     "name": "stdout",
     "output_type": "stream",
     "text": [
      "False\n"
     ]
    }
   ],
   "source": [
    "# your answer here\n",
    "# No, because they are of different dimensions \n",
    "print(a.shape == b.shape)"
   ]
  },
  {
   "cell_type": "markdown",
   "metadata": {},
   "source": [
    "#### 9. Transpose *b* so that it has the same structure of *a* (i.e. become a 2x3x5 array). Assign the transposed array to variable *c*."
   ]
  },
  {
   "cell_type": "code",
   "execution_count": 27,
   "metadata": {},
   "outputs": [
    {
     "name": "stdout",
     "output_type": "stream",
     "text": [
      "(2, 3, 5)\n",
      "[[[1. 1. 1. 1. 1.]\n",
      "  [1. 1. 1. 1. 1.]\n",
      "  [1. 1. 1. 1. 1.]]\n",
      "\n",
      " [[1. 1. 1. 1. 1.]\n",
      "  [1. 1. 1. 1. 1.]\n",
      "  [1. 1. 1. 1. 1.]]]\n"
     ]
    }
   ],
   "source": [
    "# your code here\n",
    "c = np.reshape(b, (2,3,5))\n",
    "print(c.shape)\n",
    "print(c)"
   ]
  },
  {
   "cell_type": "markdown",
   "metadata": {},
   "source": [
    "#### 10. Try to add *a* and *c*. Now it should work. Assign the sum to variable *d*. But why does it work now?"
   ]
  },
  {
   "cell_type": "code",
   "execution_count": 29,
   "metadata": {},
   "outputs": [
    {
     "name": "stdout",
     "output_type": "stream",
     "text": [
      "[[[ 1.15029962  1.16709118 -0.81006912 -0.07990635  1.26090639]\n",
      "  [ 0.60930063  0.77351911  0.94446774  1.07993998  1.26112052]\n",
      "  [-0.09173696  1.10820165 -0.44217709  0.40795257  1.05324294]]\n",
      "\n",
      " [[ 1.59013886  1.53156329  1.83228162  2.71264247 -0.3698096 ]\n",
      "  [ 0.27562331  1.37578938  1.59568654  0.56298483  3.5370072 ]\n",
      "  [ 1.56318257  1.7255606   0.28532591  0.84306465  0.07842024]]]\n"
     ]
    }
   ],
   "source": [
    "# your code/answer here\n",
    "# The arrays need to be the same dimensions\n",
    "d = np.add(a,c)\n",
    "print(d)\n"
   ]
  },
  {
   "cell_type": "markdown",
   "metadata": {},
   "source": [
    "#### 11. Print *a* and *d*. Notice the difference and relation of the two array in terms of the values? Explain."
   ]
  },
  {
   "cell_type": "code",
   "execution_count": 31,
   "metadata": {},
   "outputs": [
    {
     "name": "stdout",
     "output_type": "stream",
     "text": [
      "[[[ 0.15029962  0.16709118 -1.81006912 -1.07990635  0.26090639]\n",
      "  [-0.39069937 -0.22648089 -0.05553226  0.07993998  0.26112052]\n",
      "  [-1.09173696  0.10820165 -1.44217709 -0.59204743  0.05324294]]\n",
      "\n",
      " [[ 0.59013886  0.53156329  0.83228162  1.71264247 -1.3698096 ]\n",
      "  [-0.72437669  0.37578938  0.59568654 -0.43701517  2.5370072 ]\n",
      "  [ 0.56318257  0.7255606  -0.71467409 -0.15693535 -0.92157976]]]\n",
      "[[[ 1.15029962  1.16709118 -0.81006912 -0.07990635  1.26090639]\n",
      "  [ 0.60930063  0.77351911  0.94446774  1.07993998  1.26112052]\n",
      "  [-0.09173696  1.10820165 -0.44217709  0.40795257  1.05324294]]\n",
      "\n",
      " [[ 1.59013886  1.53156329  1.83228162  2.71264247 -0.3698096 ]\n",
      "  [ 0.27562331  1.37578938  1.59568654  0.56298483  3.5370072 ]\n",
      "  [ 1.56318257  1.7255606   0.28532591  0.84306465  0.07842024]]]\n"
     ]
    }
   ],
   "source": [
    "# your code/answer here\n",
    "print(a)\n",
    "\n",
    "print(d)\n",
    "# for some/most values, you are adding by 1"
   ]
  },
  {
   "cell_type": "markdown",
   "metadata": {},
   "source": [
    "#### 12. Multiply *a* and *c*. Assign the result to *e*."
   ]
  },
  {
   "cell_type": "code",
   "execution_count": 32,
   "metadata": {},
   "outputs": [
    {
     "name": "stdout",
     "output_type": "stream",
     "text": [
      "[[[ 0.15029962  0.16709118 -1.81006912 -1.07990635  0.26090639]\n",
      "  [-0.39069937 -0.22648089 -0.05553226  0.07993998  0.26112052]\n",
      "  [-1.09173696  0.10820165 -1.44217709 -0.59204743  0.05324294]]\n",
      "\n",
      " [[ 0.59013886  0.53156329  0.83228162  1.71264247 -1.3698096 ]\n",
      "  [-0.72437669  0.37578938  0.59568654 -0.43701517  2.5370072 ]\n",
      "  [ 0.56318257  0.7255606  -0.71467409 -0.15693535 -0.92157976]]]\n"
     ]
    }
   ],
   "source": [
    "# your code here\n",
    "e = np.multiply(a, c)\n",
    "print(e)"
   ]
  },
  {
   "cell_type": "markdown",
   "metadata": {},
   "source": [
    "#### 13. Does *e* equal to *a*? Why or why not?\n"
   ]
  },
  {
   "cell_type": "code",
   "execution_count": 34,
   "metadata": {},
   "outputs": [
    {
     "name": "stdout",
     "output_type": "stream",
     "text": [
      "[[[ True  True  True  True  True]\n",
      "  [ True  True  True  True  True]\n",
      "  [ True  True  True  True  True]]\n",
      "\n",
      " [[ True  True  True  True  True]\n",
      "  [ True  True  True  True  True]\n",
      "  [ True  True  True  True  True]]]\n",
      "(2, 3, 5)\n",
      "30\n",
      "(2, 3, 5)\n",
      "30\n"
     ]
    }
   ],
   "source": [
    "# your code/answer here\n",
    "#Equal in what sense? Size? Shape?\n",
    "# They appear to equal in shape size and values. \n",
    "print(a==e)\n",
    "\n",
    "print(a.shape)\n",
    "print(a.size)\n",
    "\n",
    "print(e.shape)\n",
    "print(e.size)"
   ]
  },
  {
   "cell_type": "markdown",
   "metadata": {},
   "source": [
    "#### 14. Identify the max, min, and mean values in *d*. Assign those values to variables *d_max*, *d_min* and *d_mean*."
   ]
  },
  {
   "cell_type": "code",
   "execution_count": 36,
   "metadata": {},
   "outputs": [
    {
     "name": "stdout",
     "output_type": "stream",
     "text": [
      "3.5370072026778927\n",
      "-0.8100691223476884\n",
      "0.951053822715017\n"
     ]
    }
   ],
   "source": [
    "# your code here\n",
    "d_max = d.max()\n",
    "print(d_max)\n",
    "d_min = d.min()\n",
    "print(d_min)\n",
    "d_mean = np.mean(d)\n",
    "print(d_mean)"
   ]
  },
  {
   "cell_type": "markdown",
   "metadata": {},
   "source": [
    "#### 15. Now we want to label the values in *d*. First create an empty array *f* with the same shape (i.e. 2x3x5) as *d* using `np.empty`.\n"
   ]
  },
  {
   "cell_type": "code",
   "execution_count": 38,
   "metadata": {},
   "outputs": [
    {
     "name": "stdout",
     "output_type": "stream",
     "text": [
      "[[[0.15029962 0.16709118 1.81006912 1.07990635 0.26090639]\n",
      "  [0.39069937 0.22648089 0.05553226 0.07993998 0.26112052]\n",
      "  [1.09173696 0.10820165 1.44217709 0.59204743 0.05324294]]\n",
      "\n",
      " [[0.59013886 0.53156329 0.83228162 1.71264247 1.3698096 ]\n",
      "  [0.72437669 0.37578938 0.59568654 0.43701517 2.5370072 ]\n",
      "  [0.56318257 0.7255606  0.71467409 0.15693535 0.92157976]]]\n"
     ]
    }
   ],
   "source": [
    "# your code here\n",
    "f = np.empty([2,3,5])\n",
    "print(f)\n"
   ]
  },
  {
   "cell_type": "markdown",
   "metadata": {},
   "source": [
    "#### 16. Populate the values in *f*. \n",
    "\n",
    "For each value in *d*, if it's larger than *d_min* but smaller than *d_mean*, assign 25 to the corresponding value in *f*. If a value in *d* is larger than *d_mean* but smaller than *d_max*, assign 75 to the corresponding value in *f*. If a value equals to *d_mean*, assign 50 to the corresponding value in *f*. Assign 0 to the corresponding value(s) in *f* for *d_min* in *d*. Assign 100 to the corresponding value(s) in *f* for *d_max* in *d*. In the end, f should have only the following values: 0, 25, 50, 75, and 100.\n",
    "\n",
    "**Note**: you don't have to use Numpy in this question."
   ]
  },
  {
   "cell_type": "code",
   "execution_count": 57,
   "metadata": {
    "scrolled": true
   },
   "outputs": [
    {
     "name": "stdout",
     "output_type": "stream",
     "text": [
      "[[[ 75.  75.   0.  25.  75.]\n",
      "  [ 25.  25.  25.  75.  75.]\n",
      "  [ 25.  75.  25.  25.  75.]]\n",
      "\n",
      " [[ 75.  75.  75.  75.  25.]\n",
      "  [ 25.  75.  75.  25. 100.]\n",
      "  [ 75.  75.  25.  25.  25.]]]\n"
     ]
    }
   ],
   "source": [
    "# your code here\n",
    "\n",
    "\n",
    "ind1=0\n",
    "ind2=0\n",
    "ind3=0\n",
    "\n",
    "for i in d: \n",
    "    for j in i: \n",
    "        for k in j: \n",
    "            if k == d_mean:\n",
    "                f[ind1][ind2][ind3] = 50 \n",
    "            elif k == d_min:\n",
    "                f[ind1][ind2][ind3] = 0\n",
    "            elif k == d_max:\n",
    "                f[ind1][ind2][ind3] = 100\n",
    "            elif (k > d_min) and (k < d_mean):\n",
    "                f[ind1][ind2][ind3] = 25\n",
    "            elif (k > d_mean) and (k < d_max):\n",
    "                f[ind1][ind2][ind3] = 75 \n",
    "            ind3 += 1\n",
    "        ind3=0\n",
    "        ind2+=1\n",
    "    ind2=0\n",
    "    ind1+=1\n",
    "\n",
    "print(f)  "
   ]
  },
  {
   "cell_type": "markdown",
   "metadata": {},
   "source": [
    "#### 17. Print *d* and *f*. Do you have your expected *f*?\n",
    "For instance, if your *d* is:\n",
    "```python\n",
    "[[[1.85836099, 1.67064465, 1.62576044, 1.40243961, 1.88454931],\n",
    "[1.75354326, 1.69403643, 1.36729252, 1.61415071, 1.12104981],\n",
    "[1.72201435, 1.1862918 , 1.87078449, 1.7726778 , 1.88180042]],\n",
    "[[1.44747908, 1.31673383, 1.02000951, 1.52218947, 1.97066381],\n",
    "[1.79129243, 1.74983003, 1.96028037, 1.85166831, 1.65450881],\n",
    "[1.18068344, 1.9587381 , 1.00656599, 1.93402165, 1.73514584]]]\n",
    "```\n",
    "Your *f* should be:\n",
    "```python\n",
    "[[[ 75.,  75.,  75.,  25.,  75.],\n",
    "[ 75.,  75.,  25.,  25.,  25.],\n",
    "[ 75.,  25.,  75.,  75.,  75.]],\n",
    "[[ 25.,  25.,  25.,  25., 100.],\n",
    "[ 75.,  75.,  75.,  75.,  75.],\n",
    "[ 25.,  75.,   0.,  75.,  75.]]]\n",
    "```"
   ]
  },
  {
   "cell_type": "code",
   "execution_count": 58,
   "metadata": {},
   "outputs": [
    {
     "name": "stdout",
     "output_type": "stream",
     "text": [
      "[[[ 1.15029962  1.16709118 -0.81006912 -0.07990635  1.26090639]\n",
      "  [ 0.60930063  0.77351911  0.94446774  1.07993998  1.26112052]\n",
      "  [-0.09173696  1.10820165 -0.44217709  0.40795257  1.05324294]]\n",
      "\n",
      " [[ 1.59013886  1.53156329  1.83228162  2.71264247 -0.3698096 ]\n",
      "  [ 0.27562331  1.37578938  1.59568654  0.56298483  3.5370072 ]\n",
      "  [ 1.56318257  1.7255606   0.28532591  0.84306465  0.07842024]]]\n",
      "[[[ 75.  75.   0.  25.  75.]\n",
      "  [ 25.  25.  25.  75.  75.]\n",
      "  [ 25.  75.  25.  25.  75.]]\n",
      "\n",
      " [[ 75.  75.  75.  75.  25.]\n",
      "  [ 25.  75.  75.  25. 100.]\n",
      "  [ 75.  75.  25.  25.  25.]]]\n"
     ]
    }
   ],
   "source": [
    "# your code here\n",
    "\n",
    "print(d)\n",
    "print(f)"
   ]
  },
  {
   "cell_type": "markdown",
   "metadata": {},
   "source": [
    "#### 18. Bonus question: instead of using numbers (i.e. 0, 25, 50, 75, and 100), use string values  (\"A\", \"B\", \"C\", \"D\", and \"E\") to label the array elements. For the example above, the expected result is:\n",
    "\n",
    "```python\n",
    "[[[ 'D',  'D',  'D',  'B',  'D'],\n",
    "[ 'D',  'D',  'B',  'B',  'B'],\n",
    "[ 'D',  'B',  'D',  'D',  'D']],\n",
    "[[ 'B',  'B',  'B',  'B',  'E'],\n",
    "[ 'D',  'D',  'D',  'D',  'D'],\n",
    "[ 'B',  'D',   'A',  'D', 'D']]]\n",
    "```\n",
    "**Note**: you don't have to use Numpy in this question."
   ]
  },
  {
   "cell_type": "code",
   "execution_count": 61,
   "metadata": {},
   "outputs": [
    {
     "ename": "ValueError",
     "evalue": "could not convert string to float: 'D'",
     "output_type": "error",
     "traceback": [
      "\u001b[1;31m---------------------------------------------------------------------------\u001b[0m",
      "\u001b[1;31mValueError\u001b[0m                                Traceback (most recent call last)",
      "\u001b[1;32m<ipython-input-61-ccbb19574bde>\u001b[0m in \u001b[0;36m<module>\u001b[1;34m\u001b[0m\n\u001b[0;32m     18\u001b[0m                 \u001b[0mf\u001b[0m\u001b[1;33m[\u001b[0m\u001b[0mind1\u001b[0m\u001b[1;33m]\u001b[0m\u001b[1;33m[\u001b[0m\u001b[0mind2\u001b[0m\u001b[1;33m]\u001b[0m\u001b[1;33m[\u001b[0m\u001b[0mind3\u001b[0m\u001b[1;33m]\u001b[0m \u001b[1;33m=\u001b[0m \u001b[0mstr\u001b[0m\u001b[1;33m(\u001b[0m\u001b[1;34m'B'\u001b[0m\u001b[1;33m)\u001b[0m\u001b[1;33m\u001b[0m\u001b[1;33m\u001b[0m\u001b[0m\n\u001b[0;32m     19\u001b[0m             \u001b[1;32melif\u001b[0m \u001b[1;33m(\u001b[0m\u001b[0mk\u001b[0m \u001b[1;33m>\u001b[0m \u001b[0md_mean\u001b[0m\u001b[1;33m)\u001b[0m \u001b[1;32mand\u001b[0m \u001b[1;33m(\u001b[0m\u001b[0mk\u001b[0m \u001b[1;33m<\u001b[0m \u001b[0md_max\u001b[0m\u001b[1;33m)\u001b[0m\u001b[1;33m:\u001b[0m\u001b[1;33m\u001b[0m\u001b[1;33m\u001b[0m\u001b[0m\n\u001b[1;32m---> 20\u001b[1;33m                 \u001b[0mf\u001b[0m\u001b[1;33m[\u001b[0m\u001b[0mind1\u001b[0m\u001b[1;33m]\u001b[0m\u001b[1;33m[\u001b[0m\u001b[0mind2\u001b[0m\u001b[1;33m]\u001b[0m\u001b[1;33m[\u001b[0m\u001b[0mind3\u001b[0m\u001b[1;33m]\u001b[0m \u001b[1;33m=\u001b[0m \u001b[0mstr\u001b[0m\u001b[1;33m(\u001b[0m\u001b[1;34m'D'\u001b[0m\u001b[1;33m)\u001b[0m\u001b[1;33m\u001b[0m\u001b[1;33m\u001b[0m\u001b[0m\n\u001b[0m\u001b[0;32m     21\u001b[0m             \u001b[0mind3\u001b[0m \u001b[1;33m+=\u001b[0m \u001b[1;36m1\u001b[0m\u001b[1;33m\u001b[0m\u001b[1;33m\u001b[0m\u001b[0m\n\u001b[0;32m     22\u001b[0m         \u001b[0mind3\u001b[0m\u001b[1;33m=\u001b[0m\u001b[1;36m0\u001b[0m\u001b[1;33m\u001b[0m\u001b[1;33m\u001b[0m\u001b[0m\n",
      "\u001b[1;31mValueError\u001b[0m: could not convert string to float: 'D'"
     ]
    }
   ],
   "source": [
    "# your code here\n",
    "\n",
    "\n",
    "ind1=0\n",
    "ind2=0\n",
    "ind3=0\n",
    "\n",
    "for i in d: \n",
    "    for j in i: \n",
    "        for k in j: \n",
    "            if k == d_mean:\n",
    "                f[ind1][ind2][ind3] = str('C') \n",
    "            elif k == d_min:\n",
    "                f[ind1][ind2][ind3] = str('A')\n",
    "            elif k == d_max:\n",
    "                f[ind1][ind2][ind3] = str('E')\n",
    "            elif (k > d_min) and (k < d_mean):\n",
    "                f[ind1][ind2][ind3] = str('B')\n",
    "            elif (k > d_mean) and (k < d_max):\n",
    "                f[ind1][ind2][ind3] = str('D')\n",
    "            ind3 += 1\n",
    "        ind3=0\n",
    "        ind2+=1\n",
    "    ind2=0\n",
    "    ind1+=1\n",
    "\n",
    "print(f) "
   ]
  }
 ],
 "metadata": {
  "kernelspec": {
   "display_name": "Python 3",
   "language": "python",
   "name": "python3"
  },
  "language_info": {
   "codemirror_mode": {
    "name": "ipython",
    "version": 3
   },
   "file_extension": ".py",
   "mimetype": "text/x-python",
   "name": "python",
   "nbconvert_exporter": "python",
   "pygments_lexer": "ipython3",
   "version": "3.7.4"
  }
 },
 "nbformat": 4,
 "nbformat_minor": 2
}
